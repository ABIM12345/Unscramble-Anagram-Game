{
 "cells": [
  {
   "cell_type": "markdown",
   "id": "08e19a94",
   "metadata": {},
   "source": [
    "Unscramble Anagram is a game where the words that make up a word are scrambled up or randomized. Players have to rearrange the scattered letters to return the original word"
   ]
  },
  {
   "cell_type": "code",
   "execution_count": 1,
   "id": "251a1662",
   "metadata": {},
   "outputs": [],
   "source": [
    "import random\n",
    "import time\n",
    "\n",
    "#python libraies eliminate the need for writing codes from scratch.\n",
    "# random returns a random floating number between 0 and 1\n",
    "# that is it allows us stimilate random choices\n",
    "\n",
    "# we import time module in other to work with time and to retrieving the current time."
   ]
  },
  {
   "cell_type": "code",
   "execution_count": 2,
   "id": "12a28797",
   "metadata": {},
   "outputs": [],
   "source": [
    "def unscramble_word(word):\n",
    "  scrambled_letters = list(word)\n",
    "  random.shuffle(scrambled_letters)\n",
    "  return ''.join(scrambled_letters)"
   ]
  },
  {
   "cell_type": "code",
   "execution_count": 3,
   "id": "9ff2b0a4",
   "metadata": {},
   "outputs": [],
   "source": [
    "def check_answer(scrambled_word, original_word):\n",
    "  #if unscramble_word == original_word: cause of error\n",
    "  if scrambled_word == original_word:\n",
    "    return True\n",
    "  else:\n",
    "    return False"
   ]
  },
  {
   "cell_type": "markdown",
   "id": "4fa384dd",
   "metadata": {},
   "source": [
    "def display_countdown_clock(duration=30):\n",
    "    start_time = time.time()\n",
    "\n",
    "    while time.time() < start_time + duration:\n",
    "        remaining_time = start_time + duration - time.time()\n",
    "        rounded_time = round(remaining_time)\n",
    "        \n",
    "        if remaining_time > 0:\n",
    "            minutes, seconds = divmod(rounded_time, 60)\n",
    "            time_format = \"{:02}:{:02}\".format(minutes, seconds)\n",
    "            print(\"Time remaining:\", time_format, end='\\r')\n",
    "            time.sleep(1)"
   ]
  },
  {
   "cell_type": "code",
   "execution_count": 4,
   "id": "475eeb62",
   "metadata": {},
   "outputs": [],
   "source": [
    "def play_game():\n",
    "  words = [\"apple\", \"banana\", \"orange\", \"grape\",\"strawberry\"]\n",
    "  score = 0\n",
    "  for word in words:\n",
    "    scrambled_word = unscramble_word(word)\n",
    "    print(\"Unscramble this word:\", scrambled_word)\n",
    "\n",
    "    #Set a countdown timer for 30 seconds\n",
    "    start_time = time.time()\n",
    "    while time.time() < start_time + 30:\n",
    "      answer = input(\"Enter your guess: \")\n",
    "      if check_answer(answer, word):\n",
    "        print(\" \\nCorrect! You scored a point.\")\n",
    "        score += 1\n",
    "        break\n",
    "      else:\n",
    "        print(\"\\nIncorrect. Try again\")\n",
    "\n",
    "        #Display the remaining time if the countdown hasn't reached 0\n",
    "        remaining_time = start_time + 30 - time.time()\n",
    "        rounded_time = round(remaining_time)\n",
    "        if remaining_time > 0:\n",
    "            print (\"Time remaining:\", rounded_time, 'seconds')\n",
    "\n",
    "    print(\"Final score:\", score)\n",
    "    \n"
   ]
  },
  {
   "cell_type": "code",
   "execution_count": null,
   "id": "01f3dd5b",
   "metadata": {},
   "outputs": [
    {
     "name": "stdout",
     "output_type": "stream",
     "text": [
      "Unscramble this word: pealp\n",
      "Enter your guess: allpe\n",
      "\n",
      "Incorrect. Try again\n",
      "Time remaining: 21 seconds\n",
      "Enter your guess: apple\n",
      " \n",
      "Correct! You scored a point.\n",
      "Final score: 1\n",
      "Unscramble this word: aannba\n",
      "Enter your guess: ananab\n",
      "\n",
      "Incorrect. Try again\n",
      "Time remaining: 25 seconds\n"
     ]
    }
   ],
   "source": [
    "\n",
    "play_game()"
   ]
  },
  {
   "cell_type": "code",
   "execution_count": null,
   "id": "228c3470",
   "metadata": {},
   "outputs": [],
   "source": []
  },
  {
   "cell_type": "code",
   "execution_count": null,
   "id": "37ddf246",
   "metadata": {},
   "outputs": [],
   "source": []
  },
  {
   "cell_type": "code",
   "execution_count": null,
   "id": "a66477a4",
   "metadata": {},
   "outputs": [],
   "source": []
  },
  {
   "cell_type": "code",
   "execution_count": null,
   "id": "c464b8a0",
   "metadata": {},
   "outputs": [],
   "source": []
  },
  {
   "cell_type": "code",
   "execution_count": null,
   "id": "331ad53f",
   "metadata": {},
   "outputs": [],
   "source": []
  }
 ],
 "metadata": {
  "kernelspec": {
   "display_name": "Python 3 (ipykernel)",
   "language": "python",
   "name": "python3"
  },
  "language_info": {
   "codemirror_mode": {
    "name": "ipython",
    "version": 3
   },
   "file_extension": ".py",
   "mimetype": "text/x-python",
   "name": "python",
   "nbconvert_exporter": "python",
   "pygments_lexer": "ipython3",
   "version": "3.10.9"
  }
 },
 "nbformat": 4,
 "nbformat_minor": 5
}
